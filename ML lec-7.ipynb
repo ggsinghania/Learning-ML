{
 "cells": [
  {
   "cell_type": "markdown",
   "metadata": {},
   "source": [
    "# Topics\n",
    "- Sensitivity vs Specificity\n",
    "- ROC Curves\n",
    "- Selecting optimal sensitivity & specificity\n",
    "- Hyper parameter tuning\n",
    "- Other techniques to improve performance of the model"
   ]
  },
  {
   "cell_type": "code",
   "execution_count": 16,
   "metadata": {},
   "outputs": [],
   "source": [
    "import pandas as pd\n",
    "import numpy as np\n",
    "from sklearn.tree import DecisionTreeClassifier\n",
    "from sklearn.ensemble import RandomForestClassifier\n",
    "from sklearn.model_selection import train_test_split\n",
    "from sklearn.preprocessing import StandardScaler\n",
    "from sklearn.metrics.pairwise import euclidean_distances\n",
    "%matplotlib inline\n",
    "\n",
    "from sklearn.metrics import accuracy_score, confusion_matrix"
   ]
  },
  {
   "cell_type": "code",
   "execution_count": 6,
   "metadata": {},
   "outputs": [],
   "source": [
    "credit = pd.read_csv('/datasets/credit-default.csv')\n",
    "credit_dummies = pd.get_dummies(credit)\n",
    "train, test = train_test_split(credit_dummies,\n",
    "                              test_size=0.3,\n",
    "                              random_state=100)\n",
    "train_x = train.drop('default', axis=1)\n",
    "test_x = test.drop('default', axis=1)\n",
    "train_y = train['default']\n",
    "test_y = test['default']"
   ]
  },
  {
   "cell_type": "code",
   "execution_count": 18,
   "metadata": {},
   "outputs": [
    {
     "data": {
      "text/plain": [
       "array([[219,   0],\n",
       "       [ 81,   0]])"
      ]
     },
     "execution_count": 18,
     "metadata": {},
     "output_type": "execute_result"
    }
   ],
   "source": [
    "test_pred = np.ones(test_x.shape[0])\n",
    "accuracy_score(test_y, test_pred)  \n",
    "confusion_matrix(test_y, test_pred, labels=[1,2])"
   ]
  },
  {
   "cell_type": "code",
   "execution_count": 37,
   "metadata": {},
   "outputs": [
    {
     "name": "stdout",
     "output_type": "stream",
     "text": [
      "219\n",
      "0\n",
      "0\n",
      "81\n"
     ]
    }
   ],
   "source": [
    "df_pred = pd.DataFrame({'actual': test_y, 'predicted': test_pred})\n",
    "\n",
    "# TN\n",
    "print(((df_pred['actual'] == 1) & (df_pred['predicted']==1)).sum())\n",
    "\n",
    "# TP\n",
    "print(((df_pred['actual'] == 2) & (df_pred['predicted']==2)).sum())\n",
    "\n",
    "# FP\n",
    "print(((df_pred['actual'] == 1) & (df_pred['predicted']==2)).sum())\n",
    "\n",
    "# FN\n",
    "print(((df_pred['actual'] == 2) & (df_pred['predicted']==1)).sum())"
   ]
  },
  {
   "cell_type": "code",
   "execution_count": 38,
   "metadata": {},
   "outputs": [
    {
     "data": {
      "text/plain": [
       "array([[  0, 219],\n",
       "       [  0,  81]])"
      ]
     },
     "execution_count": 38,
     "metadata": {},
     "output_type": "execute_result"
    }
   ],
   "source": [
    "test_pred = np.ones(test_x.shape[0])*2\n",
    "accuracy_score(test_y, test_pred)  \n",
    "confusion_matrix(test_y, test_pred, labels=[1,2])"
   ]
  },
  {
   "cell_type": "code",
   "execution_count": 43,
   "metadata": {},
   "outputs": [
    {
     "data": {
      "text/plain": [
       "array([1, 2, 1, 2, 1])"
      ]
     },
     "execution_count": 43,
     "metadata": {},
     "output_type": "execute_result"
    }
   ],
   "source": [
    "model = RandomForestClassifier(random_state=100)\n",
    "model.fit(train_x, train_y)\n",
    "test_pred = model.predict(test_x)\n",
    "accuracy_score(test_y, test_pred)\n",
    "#confusion_matrix(test_y, test_pred, labels=[1,2])\n",
    "test_pred[:5]"
   ]
  },
  {
   "cell_type": "code",
   "execution_count": 41,
   "metadata": {},
   "outputs": [
    {
     "data": {
      "text/html": [
       "<div>\n",
       "<style scoped>\n",
       "    .dataframe tbody tr th:only-of-type {\n",
       "        vertical-align: middle;\n",
       "    }\n",
       "\n",
       "    .dataframe tbody tr th {\n",
       "        vertical-align: top;\n",
       "    }\n",
       "\n",
       "    .dataframe thead th {\n",
       "        text-align: right;\n",
       "    }\n",
       "</style>\n",
       "<table border=\"1\" class=\"dataframe\">\n",
       "  <thead>\n",
       "    <tr style=\"text-align: right;\">\n",
       "      <th></th>\n",
       "      <th>Neg_1</th>\n",
       "      <th>Pos_2</th>\n",
       "    </tr>\n",
       "  </thead>\n",
       "  <tbody>\n",
       "    <tr>\n",
       "      <th>0</th>\n",
       "      <td>0.5</td>\n",
       "      <td>0.5</td>\n",
       "    </tr>\n",
       "    <tr>\n",
       "      <th>1</th>\n",
       "      <td>0.1</td>\n",
       "      <td>0.9</td>\n",
       "    </tr>\n",
       "    <tr>\n",
       "      <th>2</th>\n",
       "      <td>0.7</td>\n",
       "      <td>0.3</td>\n",
       "    </tr>\n",
       "    <tr>\n",
       "      <th>3</th>\n",
       "      <td>0.3</td>\n",
       "      <td>0.7</td>\n",
       "    </tr>\n",
       "    <tr>\n",
       "      <th>4</th>\n",
       "      <td>0.6</td>\n",
       "      <td>0.4</td>\n",
       "    </tr>\n",
       "  </tbody>\n",
       "</table>\n",
       "</div>"
      ],
      "text/plain": [
       "   Neg_1  Pos_2\n",
       "0    0.5    0.5\n",
       "1    0.1    0.9\n",
       "2    0.7    0.3\n",
       "3    0.3    0.7\n",
       "4    0.6    0.4"
      ]
     },
     "execution_count": 41,
     "metadata": {},
     "output_type": "execute_result"
    }
   ],
   "source": [
    "probs = pd.DataFrame(model.predict_proba(test_x), \n",
    "                     columns=['Neg_1', 'Pos_2'])\n",
    "probs.head()"
   ]
  },
  {
   "cell_type": "code",
   "execution_count": 73,
   "metadata": {},
   "outputs": [
    {
     "name": "stdout",
     "output_type": "stream",
     "text": [
      "Cut-off 0.10, Sensitivity 90.1, Specificity 33.8\n"
     ]
    }
   ],
   "source": [
    "cut_off = 0.1\n",
    "test_pred2 = probs['Pos_2'].apply(lambda v: 2 if v > cut_off else 1)\n",
    "tn, fp, fn, tp = confusion_matrix(test_y, test_pred2, labels=[1,2]).ravel()\n",
    "sensitivity = (tp) / (tp + fn)\n",
    "specificity = (tn) / (tn + fp)\n",
    "print ('Cut-off %.2f, Sensitivity %.1f, Specificity %.1f' % (cut_off,\n",
    "                                                        sensitivity*100,\n",
    "                                                        specificity*100))"
   ]
  },
  {
   "cell_type": "code",
   "execution_count": 88,
   "metadata": {},
   "outputs": [
    {
     "data": {
      "text/plain": [
       "[<matplotlib.lines.Line2D at 0x1a1cf85eb8>]"
      ]
     },
     "execution_count": 88,
     "metadata": {},
     "output_type": "execute_result"
    },
    {
     "data": {
      "image/png": "[encoded data removed]",
      "text/plain": [
       "<Figure size 432x288 with 1 Axes>"
      ]
     },
     "metadata": {},
     "output_type": "display_data"
    }
   ],
   "source": [
    "cut_offs = []\n",
    "tpr = []\n",
    "fpr = []\n",
    "specics = []\n",
    "for cut_off in np.linspace(0, 1, 22):\n",
    "    #print(cut_off)\n",
    "    test_pred2 = probs['Pos_2'].apply(lambda v: 2 if v > cut_off else 1)\n",
    "    tn, fp, fn, tp = confusion_matrix(test_y, test_pred2, labels=[1,2]).ravel()\n",
    "    sensitivity = (tp) / (tp + fn)\n",
    "    specificity = (tn) / (tn + fp)\n",
    "    cut_offs.append(cut_off)\n",
    "    tpr.append(sensitivity)\n",
    "    fpr.append(1-specificity)\n",
    "    specics.append(specificity)\n",
    "#print(cut_offs)\n",
    "#print('------')\n",
    "#print(tpr)\n",
    "#print('------')\n",
    "#print(fpr)\n",
    "#import matplotlib.pyplot as plt\n",
    "plt.plot(fpr, tpr)\n",
    "#pd.DataFrame({'cut-off': cut_offs,\n",
    "#             'sensitivity': tpr,\n",
    "#             'specificity':specics})"
   ]
  },
  {
   "cell_type": "code",
   "execution_count": 93,
   "metadata": {},
   "outputs": [
    {
     "data": {
      "text/plain": [
       "[<matplotlib.lines.Line2D at 0x1a1d0ac908>]"
      ]
     },
     "execution_count": 93,
     "metadata": {},
     "output_type": "execute_result"
    },
    {
     "data": {
      "image/png": "[encoded data removed]",
      "text/plain": [
       "<Figure size 432x288 with 1 Axes>"
      ]
     },
     "metadata": {},
     "output_type": "display_data"
    }
   ],
   "source": [
    "from sklearn.metrics import roc_curve\n",
    "fpr, tpr, cutoffs = roc_curve(test_y, probs['Pos_2'], pos_label=2)\n",
    "plt.plot(fpr, tpr)"
   ]
  },
  {
   "cell_type": "code",
   "execution_count": 102,
   "metadata": {},
   "outputs": [
    {
     "data": {
      "text/html": [
       "<div>\n",
       "<style scoped>\n",
       "    .dataframe tbody tr th:only-of-type {\n",
       "        vertical-align: middle;\n",
       "    }\n",
       "\n",
       "    .dataframe tbody tr th {\n",
       "        vertical-align: top;\n",
       "    }\n",
       "\n",
       "    .dataframe thead th {\n",
       "        text-align: right;\n",
       "    }\n",
       "</style>\n",
       "<table border=\"1\" class=\"dataframe\">\n",
       "  <thead>\n",
       "    <tr style=\"text-align: right;\">\n",
       "      <th></th>\n",
       "      <th>cutoff</th>\n",
       "      <th>fpr</th>\n",
       "      <th>tpr</th>\n",
       "      <th>specificity</th>\n",
       "      <th>youden_index</th>\n",
       "    </tr>\n",
       "  </thead>\n",
       "  <tbody>\n",
       "    <tr>\n",
       "      <th>6</th>\n",
       "      <td>0.4</td>\n",
       "      <td>0.296804</td>\n",
       "      <td>0.654321</td>\n",
       "      <td>0.703196</td>\n",
       "      <td>0.357517</td>\n",
       "    </tr>\n",
       "  </tbody>\n",
       "</table>\n",
       "</div>"
      ],
      "text/plain": [
       "   cutoff       fpr       tpr  specificity  youden_index\n",
       "6     0.4  0.296804  0.654321     0.703196      0.357517"
      ]
     },
     "execution_count": 102,
     "metadata": {},
     "output_type": "execute_result"
    }
   ],
   "source": [
    "df_roc = pd.DataFrame({\n",
    "    'cutoff': cutoffs,\n",
    "    'fpr': fpr,\n",
    "    'tpr': tpr,\n",
    "    'specificity': 1 - fpr\n",
    "})\n",
    "df_roc['youden_index'] = df_roc['tpr'] + df_roc['specificity'] - 1\n",
    "df_roc.sort_values(by='youden_index', ascending=False).head(1)"
   ]
  },
  {
   "cell_type": "code",
   "execution_count": 106,
   "metadata": {},
   "outputs": [],
   "source": [
    "test_pred_new = probs['Pos_2'].apply(lambda v: 2 if v>0.4 else 1)"
   ]
  },
  {
   "cell_type": "code",
   "execution_count": 124,
   "metadata": {},
   "outputs": [
    {
     "name": "stdout",
     "output_type": "stream",
     "text": [
      "Random Forest AUC: 0.75\n",
      "Adaboost AUC: 0.74\n",
      "Decision Tree AUC: 0.65\n"
     ]
    },
    {
     "data": {
      "image/png": "[encoded data removed]",
      "text/plain": [
       "<Figure size 432x288 with 1 Axes>"
      ]
     },
     "metadata": {},
     "output_type": "display_data"
    }
   ],
   "source": [
    "from sklearn.metrics import auc\n",
    "model1 = RandomForestClassifier(random_state=100, n_estimators=1000)\n",
    "model1.fit(train_x, train_y)\n",
    "probs1 = pd.DataFrame(model1.predict_proba(test_x),\n",
    "                      columns=['Neg_1', 'Pos_2'])\n",
    "\n",
    "fpr, tpr, cutoffs = roc_curve(test_y, probs1['Pos_2'], pos_label=2)\n",
    "auc_rf = auc(fpr, tpr)\n",
    "plt.plot(fpr, tpr, color='green')\n",
    "\n",
    "print('Random Forest AUC: %.2f' % auc_rf)\n",
    "from sklearn.ensemble import AdaBoostClassifier\n",
    "model2 = AdaBoostClassifier(random_state=100)\n",
    "model2.fit(train_x, train_y)\n",
    "probs2 = pd.DataFrame(model2.predict_proba(test_x),\n",
    "                      columns=['Neg_1', 'Pos_2'])\n",
    "\n",
    "fpr, tpr, cutoffs = roc_curve(test_y, probs2['Pos_2'], pos_label=2)\n",
    "auc_ada = auc(fpr, tpr)\n",
    "print('Adaboost AUC: %.2f' % auc_ada)\n",
    "plt.plot(fpr, tpr, color='red')\n",
    "\n",
    "\n",
    "model3 = DecisionTreeClassifier(max_depth=7, random_state=100)\n",
    "model3.fit(train_x, train_y)\n",
    "probs3 = pd.DataFrame(model3.predict_proba(test_x),\n",
    "                      columns=['Neg_1', 'Pos_2'])\n",
    "\n",
    "fpr, tpr, cutoffs = roc_curve(test_y, probs3['Pos_2'], pos_label=2)\n",
    "plt.plot(fpr, tpr, color='steelblue')\n",
    "auc_dt = auc(fpr, tpr)\n",
    "print('Decision Tree AUC: %.2f' % auc_dt)"
   ]
  }
 ],
 "metadata": {
  "kernelspec": {
   "display_name": "Python 3",
   "language": "python",
   "name": "python3"
  },
  "language_info": {
   "codemirror_mode": {
    "name": "ipython",
    "version": 3
   },
   "file_extension": ".py",
   "mimetype": "text/x-python",
   "name": "python",
   "nbconvert_exporter": "python",
   "pygments_lexer": "ipython3",
   "version": "3.6.4"
  }
 },
 "nbformat": 4,
 "nbformat_minor": 2
}
